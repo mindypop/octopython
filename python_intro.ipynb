{
 "cells": [
  {
   "cell_type": "markdown",
   "metadata": {},
   "source": [
    "# Python Einführung\n",
    "## Basics\n",
    "Das ist eine Markdown-Zelle für Kommentare.\n",
    "\n",
    "pep8 - style guid for python code"
   ]
  },
  {
   "cell_type": "code",
   "execution_count": 1,
   "metadata": {},
   "outputs": [
    {
     "name": "stdout",
     "output_type": "stream",
     "text": [
      "Hallo\n"
     ]
    }
   ],
   "source": [
    "print(\"Hallo\") #Ausgabe einer Zeichenkette"
   ]
  },
  {
   "cell_type": "code",
   "execution_count": 2,
   "metadata": {},
   "outputs": [
    {
     "name": "stdout",
     "output_type": "stream",
     "text": [
      "Hawking\n"
     ]
    }
   ],
   "source": [
    "### Einfache Datentypen\n",
    "# Variablen und Wertezuweisung (Value-Assignment)\n",
    "\n",
    "# Zeichenkette (String)\n",
    "name = \"Hawking\"\n",
    "print(name)"
   ]
  },
  {
   "cell_type": "code",
   "execution_count": 4,
   "metadata": {},
   "outputs": [
    {
     "name": "stdout",
     "output_type": "stream",
     "text": [
      "73\n"
     ]
    }
   ],
   "source": [
    "# Ganzahl (Integer)\n",
    "age = 73\n",
    "print(age)"
   ]
  },
  {
   "cell_type": "code",
   "execution_count": 5,
   "metadata": {},
   "outputs": [
    {
     "name": "stdout",
     "output_type": "stream",
     "text": [
      "1.7123\n"
     ]
    }
   ],
   "source": [
    "# Gleitkommazahl (Float)\n",
    "size = 1.7123\n",
    "print (size)"
   ]
  },
  {
   "cell_type": "code",
   "execution_count": 6,
   "metadata": {},
   "outputs": [
    {
     "name": "stdout",
     "output_type": "stream",
     "text": [
      "True\n"
     ]
    }
   ],
   "source": [
    "# Boolscher Wert (Boolean)\n",
    "is_scientist = True\n",
    "print(is_scientist)"
   ]
  },
  {
   "cell_type": "code",
   "execution_count": 8,
   "metadata": {},
   "outputs": [
    {
     "data": {
      "text/plain": [
       "int"
      ]
     },
     "execution_count": 8,
     "metadata": {},
     "output_type": "execute_result"
    }
   ],
   "source": [
    "# Feststellen, was für einen Typ die Variable hat\n",
    "type(name)"
   ]
  },
  {
   "cell_type": "code",
   "execution_count": 24,
   "metadata": {},
   "outputs": [
    {
     "data": {
      "text/plain": [
       "42.632716229632656"
      ]
     },
     "execution_count": 24,
     "metadata": {},
     "output_type": "execute_result"
    }
   ],
   "source": [
    "### Operatoren\n",
    "\n",
    "5 + 5\n",
    "age * 100\n",
    "name + \"10\"\n",
    "age/size"
   ]
  },
  {
   "cell_type": "code",
   "execution_count": 28,
   "metadata": {},
   "outputs": [
    {
     "data": {
      "text/plain": [
       "5.0"
      ]
     },
     "execution_count": 28,
     "metadata": {},
     "output_type": "execute_result"
    }
   ],
   "source": [
    "number_of_articles = \"50\"\n",
    "int(number_of_articles) / 10"
   ]
  },
  {
   "cell_type": "code",
   "execution_count": 29,
   "metadata": {},
   "outputs": [
    {
     "name": "stdout",
     "output_type": "stream",
     "text": [
      "age\t is_scientist\t name\t number_of_articles\t size\t \n"
     ]
    }
   ],
   "source": [
    "# Jupyter-spezifisch: definierte Variablen\n",
    "%who"
   ]
  },
  {
   "cell_type": "code",
   "execution_count": 37,
   "metadata": {},
   "outputs": [
    {
     "data": {
      "text/plain": [
       "'Anna Hawking'"
      ]
     },
     "execution_count": 37,
     "metadata": {},
     "output_type": "execute_result"
    }
   ],
   "source": [
    "### Funktionen und Methoden\n",
    "# Methode ist Sonderfall der Funktion und von Objekt abhängig\n",
    "\n",
    "len(name)\n",
    "name.upper()\n",
    "\n",
    "# Anzeigen der Methoden\n",
    "# name. und dann TAB\n",
    "\n",
    "name.replace(\"w\",\"BLAAAA\")\n",
    "\n",
    "first_name = \"Anna\"\n",
    "first_name.count(\"a\")\n",
    "\n",
    "first_name + \" \" + name"
   ]
  },
  {
   "cell_type": "code",
   "execution_count": 56,
   "metadata": {},
   "outputs": [
    {
     "data": {
      "text/plain": [
       "{'Darwin': 73, 'Hawking': 76, 'Curie': 66, 'Rowling': '53'}"
      ]
     },
     "execution_count": 56,
     "metadata": {},
     "output_type": "execute_result"
    }
   ],
   "source": [
    "### Listen und Dictionaries\n",
    "\n",
    "names = [\"Darwin\", \"Hawking\", \"Curie\"]\n",
    "names[1] #Ansprechen über Position\n",
    "len(names)\n",
    "names[-1]\n",
    "names[0:2] # Element 0 bis 1: einschließlich 0, ausschließlich 2\n",
    "names[:] # alle Elemente\n",
    "names[:2] #alle Elemente bis 1\n",
    "\n",
    "slice_val = 2\n",
    "names[slice_val]\n",
    "names[:slice_val] #Erklärung wesbalb 1. mit drin und letztes nicht -> sehr elegant\n",
    "names[slice_val:]\n",
    "\n",
    "\n",
    "diction = {\"Darwin\": 73,\n",
    "           \"Hawking\": 76,\n",
    "           \"Curie\": 66}\n",
    "\n",
    "diction[\"Curie\"] #Ansprechen über Schlüssel\n",
    "\n",
    "\n",
    "#Hinzufügen\n",
    "names.append(\"Kleist\")\n",
    "diction[\"Rowling\"] = \"53\""
   ]
  },
  {
   "cell_type": "code",
   "execution_count": 58,
   "metadata": {},
   "outputs": [
    {
     "name": "stdout",
     "output_type": "stream",
     "text": [
      "Darwin is a great name\n",
      "Hawking is a great name\n",
      "Curie is a great name\n",
      "Kleist is a great name\n"
     ]
    }
   ],
   "source": [
    "#for schleife\n",
    "\n",
    "for x in names:\n",
    "    print(x + \" is a great name\")"
   ]
  },
  {
   "cell_type": "code",
   "execution_count": 66,
   "metadata": {},
   "outputs": [
    {
     "name": "stdout",
     "output_type": "stream",
     "text": [
      "Lieber noch was drüber ziehen\n"
     ]
    }
   ],
   "source": [
    "temp = 14\n",
    "if temp > 15:\n",
    "    print(\"Ganz schön heiß hier\")\n",
    "elif temp < 0:\n",
    "    print(\"Eiskalt\")\n",
    "else:\n",
    "    print(\"Lieber noch was drüber ziehen\")"
   ]
  },
  {
   "cell_type": "code",
   "execution_count": null,
   "metadata": {},
   "outputs": [],
   "source": []
  }
 ],
 "metadata": {
  "kernelspec": {
   "display_name": "Python 3",
   "language": "python",
   "name": "python3"
  },
  "language_info": {
   "codemirror_mode": {
    "name": "ipython",
    "version": 3
   },
   "file_extension": ".py",
   "mimetype": "text/x-python",
   "name": "python",
   "nbconvert_exporter": "python",
   "pygments_lexer": "ipython3",
   "version": "3.7.3"
  }
 },
 "nbformat": 4,
 "nbformat_minor": 2
}
