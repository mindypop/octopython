{
 "cells": [
  {
   "cell_type": "code",
   "execution_count": 20,
   "metadata": {},
   "outputs": [],
   "source": [
    "#Crossref API mit Pandas ansteuern\n",
    "#Übung: doi,title,short-container-title ausgeben\n",
    "\n",
    "import urllib.request\n",
    "import json"
   ]
  },
  {
   "cell_type": "code",
   "execution_count": 23,
   "metadata": {},
   "outputs": [
    {
     "name": "stdout",
     "output_type": "stream",
     "text": [
      "10.1371/journal.pcbi.1004668 - A Quick Introduction to Version Control with Git and GitHub - PLoS Comput Biol\n",
      "\n",
      "10.21105/joss.01035 - nasapower: A NASA POWER Global Meteorology, Surface Solar Energy and Climatology Data Client for R - JOSS\n",
      "\n",
      "10.1038/35057062 - Initial sequencing and analysis of the human genome - Nature\n",
      "\n",
      "10.21105/joss.01006 - SeqTools: A python package for easy transformation, combination and evaluation of large datasets. - JOSS\n",
      "\n"
     ]
    }
   ],
   "source": [
    "url = \"https://api.crossref.org/works/\"\n",
    "dois = [\"10.1371/journal.pcbi.1004668\", \"10.21105/joss.01035\", \"10.1038/35057062\", \"10.21105/joss.01006\"]\n",
    "\n",
    "for doi in dois:\n",
    "    full_url = url + doi\n",
    "    doi_json_data = urllib.request.urlopen(full_url).read() #URL öffnen und Daten in Variable einlesen\n",
    "    doi_data = json.loads(doi_json_data) #load string -> übersetzt zu Type = dictionary\n",
    "    title = doi_data[\"message\"][\"title\"][0]\n",
    "    short = doi_data[\"message\"][\"short-container-title\"][0]\n",
    "    print(doi + \" - \" + title + \" - \" + short)\n",
    "    print() #Leerzeile printen"
   ]
  },
  {
   "cell_type": "code",
   "execution_count": 24,
   "metadata": {},
   "outputs": [
    {
     "name": "stdout",
     "output_type": "stream",
     "text": [
      "Mein Name ist Mindy\n"
     ]
    }
   ],
   "source": [
    "name = \"Mindy\"\n",
    "print(f\"Mein Name ist {name}\")"
   ]
  },
  {
   "cell_type": "code",
   "execution_count": null,
   "metadata": {},
   "outputs": [],
   "source": []
  }
 ],
 "metadata": {
  "kernelspec": {
   "display_name": "Python 3",
   "language": "python",
   "name": "python3"
  },
  "language_info": {
   "codemirror_mode": {
    "name": "ipython",
    "version": 3
   },
   "file_extension": ".py",
   "mimetype": "text/x-python",
   "name": "python",
   "nbconvert_exporter": "python",
   "pygments_lexer": "ipython3",
   "version": "3.7.3"
  }
 },
 "nbformat": 4,
 "nbformat_minor": 2
}
